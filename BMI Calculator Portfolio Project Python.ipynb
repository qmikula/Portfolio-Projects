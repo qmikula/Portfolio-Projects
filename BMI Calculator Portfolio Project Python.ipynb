{
 "cells": [
  {
   "cell_type": "markdown",
   "id": "c9f8e524-adf6-4a9f-acc5-fd058185dac1",
   "metadata": {},
   "source": [
    "# BMI Calculator"
   ]
  },
  {
   "cell_type": "markdown",
   "id": "8d2cab49-d598-49db-8705-1fb410dd2d65",
   "metadata": {},
   "source": [
    "# https://mercer-health.com/services/weight-management-center/bmi-calculator"
   ]
  },
  {
   "cell_type": "code",
   "execution_count": 20,
   "id": "eab6277f-90c3-4368-8d31-49fbcec4f822",
   "metadata": {},
   "outputs": [
    {
     "name": "stdin",
     "output_type": "stream",
     "text": [
      "Enter your name:  Quinton\n",
      "Enter your weight in pounds:  145\n",
      "Enter your height in inches:  71\n"
     ]
    },
    {
     "name": "stdout",
     "output_type": "stream",
     "text": [
      "20.221186272564967\n",
      "Quinton, you are normal weight.\n"
     ]
    }
   ],
   "source": [
    "name = input(\"Enter your name: \")\n",
    "\n",
    "weight = int(input(\"Enter your weight in pounds: \"))\n",
    "\n",
    "height = int(input(\"Enter your height in inches: \"))\n",
    "\n",
    "BMI = (weight * 703) / (height * height)\n",
    "\n",
    "print(BMI)\n",
    "\n",
    "if BMI>0:\n",
    "    if(BMI<18.5):\n",
    "        print(name +\", you are underweight.\")\n",
    "    elif(BMI<= 24.9):\n",
    "        print(name +\", you are normal weight.\")\n",
    "    elif(BMI<= 29.9):\n",
    "        print(name +\", you are overweight.\")\n",
    "    elif(BMI<= 34.9):\n",
    "        print(name +\", you are obese.\")\n",
    "    elif(BMI<= 39.9):\n",
    "        print(name +\", you are severely obese.\")\n",
    "    elif(BMI>= 40):\n",
    "        print(name +\", you are morbidly obese.\")\n",
    "    else:\n",
    "        print(\"Enter valid inputs\")"
   ]
  },
  {
   "cell_type": "code",
   "execution_count": 13,
   "id": "2efd0ec4-6577-49f3-a6f1-e07c1456d8b6",
   "metadata": {},
   "outputs": [
    {
     "data": {
      "text/plain": [
       "int"
      ]
     },
     "execution_count": 13,
     "metadata": {},
     "output_type": "execute_result"
    }
   ],
   "source": [
    "type(height)"
   ]
  },
  {
   "cell_type": "code",
   "execution_count": 3,
   "id": "4422b05f-f72a-438b-b09a-040a3c7b3847",
   "metadata": {},
   "outputs": [],
   "source": [
    "#BMI = (weight in pounds x 703) / (height in inches x height in inches)"
   ]
  },
  {
   "cell_type": "code",
   "execution_count": null,
   "id": "c7926df8-35dc-476a-84f7-bcd48e81574d",
   "metadata": {},
   "outputs": [],
   "source": [
    "print(weight)"
   ]
  },
  {
   "cell_type": "code",
   "execution_count": null,
   "id": "2188eaa0-504e-45de-bfe9-a1384de2832f",
   "metadata": {},
   "outputs": [],
   "source": [
    "Under 18.5\tUnderweight\tMinimal\n",
    "18.5 - 24.9\tNormal Weight\tMinimal\n",
    "25 - 29.9\tOverweight\tIncreased\n",
    "30 - 34.9\tObese\tHigh\n",
    "35 - 39.9\tSeverely Obese\tVery High\n",
    "40 and over\tMorbidly Obese\tExtremely High"
   ]
  },
  {
   "cell_type": "code",
   "execution_count": 19,
   "id": "e181f9aa-dbc9-453e-a9aa-2ed8bb61a701",
   "metadata": {},
   "outputs": [
    {
     "name": "stdout",
     "output_type": "stream",
     "text": [
      "Quinton, you are normal weight.\n"
     ]
    }
   ],
   "source": [
    "if BMI>0:\n",
    "    if(BMI<18.5):\n",
    "        print(name +\", you are underweight.\")\n",
    "    elif(BMI<= 24.9):\n",
    "        print(name +\", you are normal weight.\")\n",
    "    elif(BMI<= 29.9):\n",
    "        print(name +\", you are overweight.\")\n",
    "    elif(BMI<= 34.9):\n",
    "        print(name +\", you are obese.\")\n",
    "    elif(BMI<= 39.9):\n",
    "        print(name +\", you are severely obese.\")\n",
    "    elif(BMI>= 40):\n",
    "        print(name +\", you are morbidly obese.\")\n",
    "    else:\n",
    "        print(\"Enter valid inputs\")"
   ]
  }
 ],
 "metadata": {
  "kernelspec": {
   "display_name": "Python 3 (ipykernel)",
   "language": "python",
   "name": "python3"
  },
  "language_info": {
   "codemirror_mode": {
    "name": "ipython",
    "version": 3
   },
   "file_extension": ".py",
   "mimetype": "text/x-python",
   "name": "python",
   "nbconvert_exporter": "python",
   "pygments_lexer": "ipython3",
   "version": "3.9.13"
  }
 },
 "nbformat": 4,
 "nbformat_minor": 5
}
